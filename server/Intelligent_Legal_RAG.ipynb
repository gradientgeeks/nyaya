{
 "cells": [
  {
   "cell_type": "markdown",
   "id": "7150a8e2",
   "metadata": {},
   "source": [
    "# Intelligent Agent for Legal Document Analysis using RAG & Role Classifier"
   ]
  }
 ],
 "metadata": {
  "kernelspec": {
   "display_name": "server (3.12.3)",
   "language": "python",
   "name": "python3"
  },
  "language_info": {
   "name": "python",
   "version": "3.12.3"
  }
 },
 "nbformat": 4,
 "nbformat_minor": 5
}
